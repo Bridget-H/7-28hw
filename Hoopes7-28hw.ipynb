{
 "cells": [
  {
   "cell_type": "code",
   "execution_count": 1,
   "id": "66d3a415",
   "metadata": {},
   "outputs": [
    {
     "ename": "SyntaxError",
     "evalue": "invalid syntax (<ipython-input-1-3bd71576e593>, line 1)",
     "output_type": "error",
     "traceback": [
      "\u001b[1;36m  File \u001b[1;32m\"<ipython-input-1-3bd71576e593>\"\u001b[1;36m, line \u001b[1;32m1\u001b[0m\n\u001b[1;33m    Exercise 1\u001b[0m\n\u001b[1;37m             ^\u001b[0m\n\u001b[1;31mSyntaxError\u001b[0m\u001b[1;31m:\u001b[0m invalid syntax\n"
     ]
    }
   ],
   "source": [
    "\n",
    "Exercise 1\n",
    "Roman numerals are represented by seven different symbols: I, V, X, L, C, D and M.\n",
    "\n",
    "Symbol       Value\n",
    "I             1\n",
    "V             5\n",
    "X             10\n",
    "L             50\n",
    "C             100\n",
    "D             500\n",
    "M             1000\n",
    "\n",
    "For example, 2 is written as II in Roman numeral, just two one's \n",
    "added together. 12 is written as XII, which is simply X + II. The number \n",
    "27 is written as XXVII, which is XX + V + II.\n",
    "\n",
    "Roman numerals are usually written largest to smallest from left to right. \n",
    "However, the numeral for four is not IIII. Instead, the number four is \n",
    "written as IV. Because the one is before the five we subtract it making four. \n",
    "The same principle applies to the number nine, which is written as IX. There \n",
    "are six instances where subtraction is used:\n",
    "\n",
    "I can be placed before V (5) and X (10) to make 4 and 9. \n",
    "X can be placed before L (50) and C (100) to make 40 and 90. \n",
    "C can be placed before D (500) and M (1000) to make 400 and 900.\n",
    "Given a roman numeral, convert it to an integer.\n",
    "Example 1: Input: s = \"III\"\n",
    "Output: 3\n",
    "\n",
    "Example 2: Input: s = \"IV\"\n",
    "Output: 4\n",
    "\n",
    "Example 3: Input: s = \"IX\"\n",
    "Output: 9\n",
    "\n",
    "Example 4: Input: s = \"LVIII\"\n",
    "Output: 58\n",
    "Explanation: L = 50, V= 5, III = 3.\n",
    "\n",
    "Example 5: Input: s = \"MCMXCIV\"\n",
    "Output: 1994\n",
    "Explanation: M = 1000, CM = 900, XC = 90 and IV = 4.\n",
    "\n",
    "In [ ]:\n",
    "def roman_to_int(roman):\n",
    "    \n",
    "    return # Integer\n",
    "\n",
    "\n",
    "roman_to_int('III') # 3\n",
    "roman_to_int('MCMXCIV') # 1994\n",
    "In [ ]:\n",
    "\n",
    "Exercise 2\n",
    "Given a sentence as a string, find the longest word in the sentence. \n",
    "You may assume punctuation marks are a part of the word.\n",
    "\n",
    "Example 1: Input: s = \"Hello this is a test of your knowledge on python \n",
    "strings, dictionaries, lists, and loops\"\n",
    "Output: \"dictionaries,\"\n",
    "Explanation: dictionaries, is the longest word in the the sentence with 13 letters\n",
    "\n",
    "Example 2: Input: s = \"This sentence is awesome\"\n",
    "Output: \"sentence\""
   ]
  },
  {
   "cell_type": "code",
   "execution_count": 42,
   "id": "157bd993",
   "metadata": {},
   "outputs": [
    {
     "data": {
      "text/plain": [
       "2427"
      ]
     },
     "execution_count": 42,
     "metadata": {},
     "output_type": "execute_result"
    }
   ],
   "source": [
    "def roman_to_int(roman):\n",
    "    result = 0\n",
    "    for i in roman:\n",
    "        if i == \"IX\":\n",
    "            result += 9\n",
    "        elif i != \"IV\" and i == \"I\":\n",
    "            result += 1\n",
    "            \n",
    "        if i == \"IV\":\n",
    "            result += 4\n",
    "        elif i != \"IX\" and i == \"I\":\n",
    "            result += 1\n",
    "            \n",
    "        if i == \"V\":\n",
    "            result += 5\n",
    "          \n",
    "        if i == \"XC\":\n",
    "            result += 90\n",
    "        elif i != \"XL\" and i == \"X\":\n",
    "            result += 10\n",
    "            \n",
    "        if i == \"XL\":\n",
    "            result += 40\n",
    "        elif i != \"XC\" and i == \"X\":\n",
    "            result += 10 \n",
    "            \n",
    "        if i == \"L\":\n",
    "            result += 50\n",
    "        \n",
    "        if i == \"CM\":\n",
    "            result += 900\n",
    "        elif i!= \"CD\" and i == \"C\":\n",
    "            result += 100\n",
    "            \n",
    "        if i == \"CD\":\n",
    "            result += 400\n",
    "        elif i !=\"CM\" and i == \"C\":\n",
    "            result += 100\n",
    "            \n",
    "        if i == \"D\":\n",
    "            result += 500\n",
    "            \n",
    "        if i != \"CM\" and i == \"M\":\n",
    "            result += 1000\n",
    "            \n",
    "            \n",
    "    return result\n",
    "\n",
    "\n",
    "roman_to_int('MCMXCIV')"
   ]
  },
  {
   "cell_type": "code",
   "execution_count": 28,
   "id": "c7c608cb",
   "metadata": {},
   "outputs": [
    {
     "data": {
      "text/plain": [
       "'dictionaries,'"
      ]
     },
     "execution_count": 28,
     "metadata": {},
     "output_type": "execute_result"
    }
   ],
   "source": [
    "def longest(sentence):\n",
    "    fl = max(sentence.split(\" \"), key = lambda x: len(x))\n",
    "    return fl\n",
    "\n",
    "    \n",
    "longest( \"Hello this is a test of your knowledge on python strings, dictionaries, lists, and loops\")"
   ]
  },
  {
   "cell_type": "code",
   "execution_count": null,
   "id": "33411be5",
   "metadata": {},
   "outputs": [],
   "source": []
  }
 ],
 "metadata": {
  "kernelspec": {
   "display_name": "Python 3",
   "language": "python",
   "name": "python3"
  },
  "language_info": {
   "codemirror_mode": {
    "name": "ipython",
    "version": 3
   },
   "file_extension": ".py",
   "mimetype": "text/x-python",
   "name": "python",
   "nbconvert_exporter": "python",
   "pygments_lexer": "ipython3",
   "version": "3.8.8"
  }
 },
 "nbformat": 4,
 "nbformat_minor": 5
}
